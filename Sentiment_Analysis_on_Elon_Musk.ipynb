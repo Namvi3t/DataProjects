{
  "nbformat": 4,
  "nbformat_minor": 0,
  "metadata": {
    "colab": {
      "provenance": [],
      "authorship_tag": "ABX9TyPBSX4M3vnJY8lzwkGTwctd",
      "include_colab_link": true
    },
    "kernelspec": {
      "name": "python3",
      "display_name": "Python 3"
    },
    "language_info": {
      "name": "python"
    }
  },
  "cells": [
    {
      "cell_type": "markdown",
      "metadata": {
        "id": "view-in-github",
        "colab_type": "text"
      },
      "source": [
        "<a href=\"https://colab.research.google.com/github/Namvi3t/DataProjects/blob/main/Sentiment_Analysis_on_Elon_Musk.ipynb\" target=\"_parent\"><img src=\"https://colab.research.google.com/assets/colab-badge.svg\" alt=\"Open In Colab\"/></a>"
      ]
    },
    {
      "cell_type": "markdown",
      "source": [
        "# Sentiment Analysis on Elon Musk\n",
        "\n",
        "#### By Samuel Do"
      ],
      "metadata": {
        "id": "XLc4wsmnC5lp"
      }
    },
    {
      "cell_type": "markdown",
      "source": [
        "# Setup\n",
        "\n",
        "The code block below is to set up the sentiment analysis. "
      ],
      "metadata": {
        "id": "YE8Od_Xdentz"
      }
    },
    {
      "cell_type": "code",
      "execution_count": null,
      "metadata": {
        "colab": {
          "base_uri": "https://localhost:8080/",
          "height": 91
        },
        "id": "pGF9EFbUi0Vb",
        "outputId": "59b9e8a4-0f9c-4b74-ab37-e22c6a245196"
      },
      "outputs": [
        {
          "output_type": "display_data",
          "data": {
            "text/plain": [
              "<IPython.core.display.HTML object>"
            ],
            "text/html": [
              "\n",
              "     <input type=\"file\" id=\"files-8f40dd5a-3b2d-48c5-806f-7c8fa2bcbec8\" name=\"files[]\" multiple disabled\n",
              "        style=\"border:none\" />\n",
              "     <output id=\"result-8f40dd5a-3b2d-48c5-806f-7c8fa2bcbec8\">\n",
              "      Upload widget is only available when the cell has been executed in the\n",
              "      current browser session. Please rerun this cell to enable.\n",
              "      </output>\n",
              "      <script>// Copyright 2017 Google LLC\n",
              "//\n",
              "// Licensed under the Apache License, Version 2.0 (the \"License\");\n",
              "// you may not use this file except in compliance with the License.\n",
              "// You may obtain a copy of the License at\n",
              "//\n",
              "//      http://www.apache.org/licenses/LICENSE-2.0\n",
              "//\n",
              "// Unless required by applicable law or agreed to in writing, software\n",
              "// distributed under the License is distributed on an \"AS IS\" BASIS,\n",
              "// WITHOUT WARRANTIES OR CONDITIONS OF ANY KIND, either express or implied.\n",
              "// See the License for the specific language governing permissions and\n",
              "// limitations under the License.\n",
              "\n",
              "/**\n",
              " * @fileoverview Helpers for google.colab Python module.\n",
              " */\n",
              "(function(scope) {\n",
              "function span(text, styleAttributes = {}) {\n",
              "  const element = document.createElement('span');\n",
              "  element.textContent = text;\n",
              "  for (const key of Object.keys(styleAttributes)) {\n",
              "    element.style[key] = styleAttributes[key];\n",
              "  }\n",
              "  return element;\n",
              "}\n",
              "\n",
              "// Max number of bytes which will be uploaded at a time.\n",
              "const MAX_PAYLOAD_SIZE = 100 * 1024;\n",
              "\n",
              "function _uploadFiles(inputId, outputId) {\n",
              "  const steps = uploadFilesStep(inputId, outputId);\n",
              "  const outputElement = document.getElementById(outputId);\n",
              "  // Cache steps on the outputElement to make it available for the next call\n",
              "  // to uploadFilesContinue from Python.\n",
              "  outputElement.steps = steps;\n",
              "\n",
              "  return _uploadFilesContinue(outputId);\n",
              "}\n",
              "\n",
              "// This is roughly an async generator (not supported in the browser yet),\n",
              "// where there are multiple asynchronous steps and the Python side is going\n",
              "// to poll for completion of each step.\n",
              "// This uses a Promise to block the python side on completion of each step,\n",
              "// then passes the result of the previous step as the input to the next step.\n",
              "function _uploadFilesContinue(outputId) {\n",
              "  const outputElement = document.getElementById(outputId);\n",
              "  const steps = outputElement.steps;\n",
              "\n",
              "  const next = steps.next(outputElement.lastPromiseValue);\n",
              "  return Promise.resolve(next.value.promise).then((value) => {\n",
              "    // Cache the last promise value to make it available to the next\n",
              "    // step of the generator.\n",
              "    outputElement.lastPromiseValue = value;\n",
              "    return next.value.response;\n",
              "  });\n",
              "}\n",
              "\n",
              "/**\n",
              " * Generator function which is called between each async step of the upload\n",
              " * process.\n",
              " * @param {string} inputId Element ID of the input file picker element.\n",
              " * @param {string} outputId Element ID of the output display.\n",
              " * @return {!Iterable<!Object>} Iterable of next steps.\n",
              " */\n",
              "function* uploadFilesStep(inputId, outputId) {\n",
              "  const inputElement = document.getElementById(inputId);\n",
              "  inputElement.disabled = false;\n",
              "\n",
              "  const outputElement = document.getElementById(outputId);\n",
              "  outputElement.innerHTML = '';\n",
              "\n",
              "  const pickedPromise = new Promise((resolve) => {\n",
              "    inputElement.addEventListener('change', (e) => {\n",
              "      resolve(e.target.files);\n",
              "    });\n",
              "  });\n",
              "\n",
              "  const cancel = document.createElement('button');\n",
              "  inputElement.parentElement.appendChild(cancel);\n",
              "  cancel.textContent = 'Cancel upload';\n",
              "  const cancelPromise = new Promise((resolve) => {\n",
              "    cancel.onclick = () => {\n",
              "      resolve(null);\n",
              "    };\n",
              "  });\n",
              "\n",
              "  // Wait for the user to pick the files.\n",
              "  const files = yield {\n",
              "    promise: Promise.race([pickedPromise, cancelPromise]),\n",
              "    response: {\n",
              "      action: 'starting',\n",
              "    }\n",
              "  };\n",
              "\n",
              "  cancel.remove();\n",
              "\n",
              "  // Disable the input element since further picks are not allowed.\n",
              "  inputElement.disabled = true;\n",
              "\n",
              "  if (!files) {\n",
              "    return {\n",
              "      response: {\n",
              "        action: 'complete',\n",
              "      }\n",
              "    };\n",
              "  }\n",
              "\n",
              "  for (const file of files) {\n",
              "    const li = document.createElement('li');\n",
              "    li.append(span(file.name, {fontWeight: 'bold'}));\n",
              "    li.append(span(\n",
              "        `(${file.type || 'n/a'}) - ${file.size} bytes, ` +\n",
              "        `last modified: ${\n",
              "            file.lastModifiedDate ? file.lastModifiedDate.toLocaleDateString() :\n",
              "                                    'n/a'} - `));\n",
              "    const percent = span('0% done');\n",
              "    li.appendChild(percent);\n",
              "\n",
              "    outputElement.appendChild(li);\n",
              "\n",
              "    const fileDataPromise = new Promise((resolve) => {\n",
              "      const reader = new FileReader();\n",
              "      reader.onload = (e) => {\n",
              "        resolve(e.target.result);\n",
              "      };\n",
              "      reader.readAsArrayBuffer(file);\n",
              "    });\n",
              "    // Wait for the data to be ready.\n",
              "    let fileData = yield {\n",
              "      promise: fileDataPromise,\n",
              "      response: {\n",
              "        action: 'continue',\n",
              "      }\n",
              "    };\n",
              "\n",
              "    // Use a chunked sending to avoid message size limits. See b/62115660.\n",
              "    let position = 0;\n",
              "    do {\n",
              "      const length = Math.min(fileData.byteLength - position, MAX_PAYLOAD_SIZE);\n",
              "      const chunk = new Uint8Array(fileData, position, length);\n",
              "      position += length;\n",
              "\n",
              "      const base64 = btoa(String.fromCharCode.apply(null, chunk));\n",
              "      yield {\n",
              "        response: {\n",
              "          action: 'append',\n",
              "          file: file.name,\n",
              "          data: base64,\n",
              "        },\n",
              "      };\n",
              "\n",
              "      let percentDone = fileData.byteLength === 0 ?\n",
              "          100 :\n",
              "          Math.round((position / fileData.byteLength) * 100);\n",
              "      percent.textContent = `${percentDone}% done`;\n",
              "\n",
              "    } while (position < fileData.byteLength);\n",
              "  }\n",
              "\n",
              "  // All done.\n",
              "  yield {\n",
              "    response: {\n",
              "      action: 'complete',\n",
              "    }\n",
              "  };\n",
              "}\n",
              "\n",
              "scope.google = scope.google || {};\n",
              "scope.google.colab = scope.google.colab || {};\n",
              "scope.google.colab._files = {\n",
              "  _uploadFiles,\n",
              "  _uploadFilesContinue,\n",
              "};\n",
              "})(self);\n",
              "</script> "
            ]
          },
          "metadata": {}
        },
        {
          "output_type": "stream",
          "name": "stdout",
          "text": [
            "Saving twkeys.txt to twkeys.txt\n",
            "verification successful!\n"
          ]
        }
      ],
      "source": [
        "#Import Files for sentiment analysis\n",
        "import tweepy #Needed tor Tweepy\n",
        "import re #Needed for Tweepy\n",
        "from textblob import TextBlob #Process Textual data\n",
        "from wordcloud import WordCloud #Help create the world cloud\n",
        "import pandas as pd #Help use data structures and data analysis tools\n",
        "import numpy as np #Help perform mathimatical arrays\n",
        "import matplotlib.pyplot as plt #Help plot graphs\n",
        "plt.style.use('dark_background') #What type of style/looks of the graph. Dark mode helps my eyes\n",
        "from google.colab import files\n",
        "\n",
        "# save your twitter developer account API key and secret and access key and secret in a txt file\n",
        "# make sure there are no extra white space in your txt file\n",
        "# upload this text file to Google Colab:\n",
        "\n",
        "txtfile = files.upload()\n",
        "keys =  txtfile.get('twkeys.txt').splitlines()\n",
        "\n",
        "# test your keys and secrets are correct or not:\n",
        "apiKey = keys[0]\n",
        "apiKeySecret = keys[1]\n",
        "accessToken = keys[2]\n",
        "accessTokenSecret = keys[3]\n",
        "auth = tweepy.OAuthHandler(apiKey, apiKeySecret)\n",
        "auth.set_access_token(accessToken, accessTokenSecret)\n",
        "api = tweepy.API(auth)\n",
        "try:\n",
        "  api.verify_credentials()\n",
        "  print(\"verification successful!\")  \n",
        "except: \n",
        "  print(\"authentication error\")  # if keys are NOT correct, you should see error"
      ]
    },
    {
      "cell_type": "markdown",
      "source": [
        "# Analysis"
      ],
      "metadata": {
        "id": "j2ifpdrNix2x"
      }
    },
    {
      "cell_type": "code",
      "source": [
        "# Get 200 tweets from Elon Musk Twitter Page\n",
        "posts = api.user_timeline(screen_name =\"elonmusk\", count=200, lang = \"en\", tweet_mode=\"extended\")\n",
        "\n",
        "# Print last 200 tweets from Elon Musk\n",
        "print(\"Here are 200 recent tweets: \\n\")\n",
        "i = 1\n",
        "for tweet in posts[0:200]: #Print the 200 tweets \n",
        "  print(str(i) +')'+ tweet.full_text + \"\\n\")\n",
        "  i+=1"
      ],
      "metadata": {
        "id": "qLgF49lakQZs"
      },
      "execution_count": null,
      "outputs": []
    },
    {
      "cell_type": "code",
      "source": [
        "#Create a dataframe \n",
        "df = pd.DataFrame( [tweet.full_text for tweet in posts], columns =['Tweets'])\n",
        "\n",
        "#Show the first 5 rows of data\n",
        "df.head()"
      ],
      "metadata": {
        "id": "SxqL6KwYl-kp"
      },
      "execution_count": null,
      "outputs": []
    },
    {
      "cell_type": "code",
      "source": [
        "#Clean the text here\n",
        "def cleanText(text):\n",
        "  text = re.sub(r'@[A-Za-z0-9]+', '', text) #Remove the '@' symbol or the @mentions\n",
        "  text = re.sub(r'#', '', text) #Remove '#' symbol which is the hash tag\n",
        "  text = re.sub(r'RT[\\s]+', '', text) #Remove Retweets\n",
        "  text = re.sub(r'https?:\\/\\/S+', '', text) #Remove hyperlink from the tweets\n",
        "\n",
        "  return text\n",
        "  \n",
        "#Call in the cleanText method\n",
        "df['Tweets']= df['Tweets'].apply(cleanText)\n",
        "\n",
        "#Show the cleaned text\n",
        "df"
      ],
      "metadata": {
        "id": "FN9JK5MJm-0r"
      },
      "execution_count": null,
      "outputs": []
    },
    {
      "cell_type": "code",
      "source": [
        "# Create a Function to get the subjectivity\n",
        "def getSubjectivity(text):\n",
        "  return TextBlob(text).sentiment.subjectivity\n",
        "\n",
        "# Function to determine if the positive or negative by using polarity\n",
        "def getPolarity(text):\n",
        "  return TextBlob(text).sentiment.polarity\n",
        "\n",
        "# Create 2 columns\n",
        "df['Subjectivity'] = df['Tweets'].apply(getSubjectivity)\n",
        "df['Polarity'] = df['Tweets'].apply(getPolarity)\n",
        "\n",
        "#Show dataframe with the new columns\n",
        "df"
      ],
      "metadata": {
        "id": "4HInr9ZnokBE"
      },
      "execution_count": null,
      "outputs": []
    },
    {
      "cell_type": "code",
      "source": [
        "#The World Cloud\n",
        "allWords = ' '.join( [twts for twts in df['Tweets']])\n",
        "wordCloud = WordCloud(width = 600, height = 300, random_state = 22, max_font_size = 120).generate(allWords)\n",
        "\n",
        "#Customize the wordCloud and displaying it\n",
        "plt.imshow(wordCloud, interpolation = \"bilinear\")\n",
        "# Do not show the axies since it makes the image look bad\n",
        "plt.axis('off')\n",
        "plt.show()"
      ],
      "metadata": {
        "id": "6fvN7Cu4xhwJ"
      },
      "execution_count": null,
      "outputs": []
    },
    {
      "cell_type": "code",
      "source": [
        "#Create a funciton for negative, positive, and neutral analysis\n",
        "def getAnalysis(score):\n",
        "  #Determine the polarity  \n",
        "  if score < 0:\n",
        "    return 'Negative'\n",
        "  elif score == 0:\n",
        "    return 'Neutral'\n",
        "  else:\n",
        "    return 'Positive'\n",
        "\n",
        "#Add another column displaying Analysis\n",
        "df['Analysis'] = df['Polarity'].apply(getAnalysis)\n",
        "\n",
        "# Display the dataframe\n",
        "df"
      ],
      "metadata": {
        "id": "e_3gqjBxq2ud"
      },
      "execution_count": null,
      "outputs": []
    },
    {
      "cell_type": "code",
      "source": [
        "# Print all positive tweets\n",
        "k=1 #Iterate the list of positive tweets\n",
        "sortedDF = df.sort_values(by=['Polarity']) #Sort the dataframe into polarity\n",
        "#Display all positive tweets based on the count from previous code\n",
        "for i in range(0, sortedDF.shape[0]):\n",
        "  if (sortedDF['Analysis'][i]== 'Positive'):\n",
        "    print(str(k) + ')' +sortedDF['Tweets'][i])\n",
        "    print()\n",
        "    k+=1"
      ],
      "metadata": {
        "id": "CToOHhbfrcCC"
      },
      "execution_count": null,
      "outputs": []
    },
    {
      "cell_type": "code",
      "source": [
        "# Print all negative tweets\n",
        "k=1 #Iterate the list of negative tweets\n",
        "sortedDF = df.sort_values(by=['Polarity'], ascending = 'False') \n",
        "#Display all negative tweets based on the count from previous code\n",
        "for i in range(0, sortedDF.shape[0]):\n",
        "  if (sortedDF['Analysis'][i]== 'Negative'):\n",
        "    print(str(k) + ')' +sortedDF['Tweets'][i])\n",
        "    print()\n",
        "    k+=1"
      ],
      "metadata": {
        "id": "KG0MTsLDsipf"
      },
      "execution_count": null,
      "outputs": []
    },
    {
      "cell_type": "code",
      "source": [
        "# Print all neutral tweets\n",
        "k=1 #Iterate the list of negative tweets\n",
        "sortedDF = df.sort_values(by=['Polarity']) \n",
        "#Display all neutral tweets based on the count from previous code\n",
        "for i in range(0, sortedDF.shape[0]):\n",
        "  if (sortedDF['Analysis'][i]== 'Neutral'):\n",
        "    print(str(k) + ')' +sortedDF['Tweets'][i])\n",
        "    print()\n",
        "    k+=1"
      ],
      "metadata": {
        "id": "MxfiAowPzpty"
      },
      "execution_count": null,
      "outputs": []
    },
    {
      "cell_type": "code",
      "source": [
        "# Plot polarity and subjectivity using Scatter Plot\n",
        "#create the Scatter Plot size\n",
        "plt.figure(figsize=(8,6))\n",
        "#configure the scatter plot and display the scatter plot\n",
        "for i in range(0, df.shape[0]):\n",
        "  plt.scatter(df['Polarity'][i], df['Subjectivity'][i], color = 'Red')\n",
        "plt.title('Sentiment Analysis')\n",
        "plt.xlabel('Polarity')\n",
        "plt.ylabel('Subjectivity')\n",
        "plt.show()"
      ],
      "metadata": {
        "id": "WEj6C02Fs9Oh"
      },
      "execution_count": null,
      "outputs": []
    },
    {
      "cell_type": "code",
      "source": [
        "# Calcualte the percentages of positive tweets\n",
        "ptweets = df[df.Analysis == 'Positive']\n",
        "ptweets = ptweets['Tweets']\n",
        "\n",
        "round((ptweets.shape[0] / df.shape[0]) * 100, 1) #Calculate the percentage"
      ],
      "metadata": {
        "id": "qMSlzsXjt0Zf"
      },
      "execution_count": null,
      "outputs": []
    },
    {
      "cell_type": "code",
      "source": [
        "# Calcualte  the percentages of negative tweets\n",
        "ntweets = df[df.Analysis == 'Negative']\n",
        "ntweets = ntweets['Tweets']\n",
        "\n",
        "round((ntweets.shape[0] / df.shape[0]) * 100, 1) #Calculate the percentage"
      ],
      "metadata": {
        "id": "FD8DmD2EurwJ"
      },
      "execution_count": null,
      "outputs": []
    },
    {
      "cell_type": "code",
      "source": [
        "# Calcualte  the percentages of neutral tweets\n",
        "neutweets = df[df.Analysis == 'Neutral']\n",
        "neutweets = neutweets['Tweets']\n",
        "\n",
        "round((neutweets.shape[0] / df.shape[0]) * 100, 1) #Calculate the percentage"
      ],
      "metadata": {
        "id": "ck26TkUiz3Hr"
      },
      "execution_count": null,
      "outputs": []
    },
    {
      "cell_type": "code",
      "source": [
        "#Show value counts\n",
        "df['Analysis'].value_counts()\n",
        "\n",
        "#Plot and visualzie the counts using a pie chart\n",
        "plt.title('Sentiment Analysis')\n",
        "plt.xlabel('Sentiment')\n",
        "plt.ylabel('Counts')\n",
        "df['Analysis'].value_counts().plot(kind='pie', autopct='%1.1f%%', textprops={'color':\"r\"})\n",
        "plt.show()"
      ],
      "metadata": {
        "id": "U-6SsF3Ru5ZL"
      },
      "execution_count": null,
      "outputs": []
    },
    {
      "cell_type": "markdown",
      "source": [
        "# Resources\n",
        "\n",
        "In order to complete the Sentiment Analysis on Elon Musk, it required libraries in order to do my analysis.\n",
        "\n",
        "#### Documentation:\n",
        "*   https://docs.tweepy.org/en/stable/ (Tweepy)\n",
        "*   https://pandas.pydata.org/docs/ (Pandas)\n",
        "*   https://numpy.org/doc/ (Numpy)\n",
        "*   https://matplotlib.org/stable/index.html (Matplotlib)\n",
        "*   https://textblob.readthedocs.io/en/dev/ (Text Blob)\n",
        "*   https://python-course.eu/applications-python/python-wordcloud-tutorial.php (Word Cloud)\n",
        "\n",
        "### Code Skeleton:\n",
        "*   https://www.geeksforgeeks.org/twitter-sentiment-analysis-using-python/ \n",
        "\n",
        "Help set up Sentiment Analysis. I extended this by adding libraries to help make further analysis.\n",
        "\n",
        "\n",
        "\n",
        "\n",
        "\n",
        "\n",
        "\n",
        "\n",
        "\n",
        "\n",
        "\n"
      ],
      "metadata": {
        "id": "TuHRE9nee3Ml"
      }
    }
  ]
}